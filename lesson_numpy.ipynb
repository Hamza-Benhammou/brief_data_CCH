{
 "cells": [
  {
   "cell_type": "markdown",
   "metadata": {},
   "source": [
    "### Introduction NumPy"
   ]
  },
  {
   "cell_type": "code",
   "execution_count": 6,
   "metadata": {},
   "outputs": [],
   "source": [
    "import numpy as np"
   ]
  },
  {
   "cell_type": "markdown",
   "metadata": {},
   "source": [
    "L'attributs 'shape' : ndarray.shape\n",
    "\n",
    "Il nous permet de voir quel est la forme de notre tableau. C-à-d., combien il y a de lignes, de colonnes, quelle est sa profondeur (3D), etc"
   ]
  },
  {
   "cell_type": "code",
   "execution_count": 7,
   "metadata": {},
   "outputs": [],
   "source": [
    "# ndim = 1\n",
    "shape = (2, )\n",
    "\n",
    "# ndim = 2\n",
    "shape = (2, 3)\n",
    "\n",
    "# ndim = 3\n",
    "shape = (2, 3, 2)"
   ]
  },
  {
   "cell_type": "markdown",
   "metadata": {},
   "source": [
    "`ATTENTION : L'attribut 'shape' est un tuple !`"
   ]
  },
  {
   "cell_type": "code",
   "execution_count": 8,
   "metadata": {},
   "outputs": [],
   "source": [
    "shape = (2, 3) # = 2 lignes et 3 colonnes"
   ]
  },
  {
   "cell_type": "markdown",
   "metadata": {},
   "source": [
    "**Ça veut dire deux choses :**\\\n",
    "1 - c'est une séquence (= on peut accéder aux différentes valeurs du tuple en indiquant les index). Quand on travaillera dans un tableau NumPy, si on veut accéder au nombre de lignes de ce tableau On écrira :"
   ]
  },
  {
   "cell_type": "code",
   "execution_count": 9,
   "metadata": {},
   "outputs": [
    {
     "data": {
      "text/plain": [
       "3"
      ]
     },
     "execution_count": 9,
     "metadata": {},
     "output_type": "execute_result"
    }
   ],
   "source": [
    "shape[0] # = lignes\n",
    "shape[1] # = colonnes"
   ]
  },
  {
   "cell_type": "markdown",
   "metadata": {},
   "source": [
    "2 - 'shape' est un attribut immutable (= puisque par définition un tuple ne peut pas être muté, on ne peut ni ajouter ni retirer des éléments dans un tuple)\n",
    "\n",
    "`Donc l'attribut 'shape' est d'une certaine façon protéger !`"
   ]
  },
  {
   "cell_type": "markdown",
   "metadata": {},
   "source": [
    "Créer un tableau avec NumpY :"
   ]
  },
  {
   "cell_type": "code",
   "execution_count": 11,
   "metadata": {},
   "outputs": [
    {
     "data": {
      "text/plain": [
       "1"
      ]
     },
     "execution_count": 11,
     "metadata": {},
     "output_type": "execute_result"
    }
   ],
   "source": [
    "A = np.array([1, 2, 3])\n",
    "A.shape # taille du tableau : sur son unique dimension, il y a 3 éléments\n",
    "A.ndim # dimension"
   ]
  }
 ],
 "metadata": {
  "kernelspec": {
   "display_name": "venv",
   "language": "python",
   "name": "python3"
  },
  "language_info": {
   "codemirror_mode": {
    "name": "ipython",
    "version": 3
   },
   "file_extension": ".py",
   "mimetype": "text/x-python",
   "name": "python",
   "nbconvert_exporter": "python",
   "pygments_lexer": "ipython3",
   "version": "3.10.12"
  }
 },
 "nbformat": 4,
 "nbformat_minor": 2
}
